{
 "cells": [
  {
   "cell_type": "code",
   "execution_count": 154,
   "id": "76cbd8e9",
   "metadata": {},
   "outputs": [],
   "source": [
    "import pandas as pd\n",
    "import numpy as np\n",
    "import matplotlib.pyplot as plt\n",
    "import seaborn as sns"
   ]
  },
  {
   "cell_type": "code",
   "execution_count": 155,
   "id": "9df30e4e",
   "metadata": {},
   "outputs": [],
   "source": [
    "pd.set_option('display.max_columns', None)"
   ]
  },
  {
   "cell_type": "code",
   "execution_count": 156,
   "id": "4d69c652",
   "metadata": {},
   "outputs": [],
   "source": [
    "df = pd.read_csv('../data_export/books.csv')"
   ]
  },
  {
   "cell_type": "code",
   "execution_count": 157,
   "id": "02b7f374",
   "metadata": {},
   "outputs": [
    {
     "name": "stdout",
     "output_type": "stream",
     "text": [
      "<class 'pandas.core.frame.DataFrame'>\n",
      "RangeIndex: 2000 entries, 0 to 1999\n",
      "Data columns (total 12 columns):\n",
      " #   Column            Non-Null Count  Dtype  \n",
      "---  ------            --------------  -----  \n",
      " 0   id                2000 non-null   int64  \n",
      " 1   name              2000 non-null   object \n",
      " 2   price             2000 non-null   int64  \n",
      " 3   original_price    2000 non-null   int64  \n",
      " 4   rating_average    2000 non-null   float64\n",
      " 5   review_count      2000 non-null   int64  \n",
      " 6   author            1710 non-null   object \n",
      " 7   publisher         0 non-null      float64\n",
      " 8   categories        2000 non-null   object \n",
      " 9   quantity_sold     1930 non-null   float64\n",
      " 10  inventory_status  2000 non-null   object \n",
      " 11  specifications    1998 non-null   object \n",
      "dtypes: float64(3), int64(4), object(5)\n",
      "memory usage: 187.6+ KB\n"
     ]
    }
   ],
   "source": [
    "df.info()"
   ]
  },
  {
   "cell_type": "code",
   "execution_count": 158,
   "id": "54db9474",
   "metadata": {},
   "outputs": [],
   "source": [
    "df.drop(['publisher'], axis=1, inplace=True)"
   ]
  },
  {
   "cell_type": "code",
   "execution_count": 159,
   "id": "a78c676c",
   "metadata": {},
   "outputs": [
    {
     "data": {
      "text/html": [
       "<div>\n",
       "<style scoped>\n",
       "    .dataframe tbody tr th:only-of-type {\n",
       "        vertical-align: middle;\n",
       "    }\n",
       "\n",
       "    .dataframe tbody tr th {\n",
       "        vertical-align: top;\n",
       "    }\n",
       "\n",
       "    .dataframe thead th {\n",
       "        text-align: right;\n",
       "    }\n",
       "</style>\n",
       "<table border=\"1\" class=\"dataframe\">\n",
       "  <thead>\n",
       "    <tr style=\"text-align: right;\">\n",
       "      <th></th>\n",
       "      <th>id</th>\n",
       "      <th>price</th>\n",
       "      <th>original_price</th>\n",
       "      <th>rating_average</th>\n",
       "      <th>review_count</th>\n",
       "      <th>quantity_sold</th>\n",
       "    </tr>\n",
       "  </thead>\n",
       "  <tbody>\n",
       "    <tr>\n",
       "      <th>count</th>\n",
       "      <td>2.000000e+03</td>\n",
       "      <td>2.000000e+03</td>\n",
       "      <td>2.000000e+03</td>\n",
       "      <td>2000.000000</td>\n",
       "      <td>2000.000000</td>\n",
       "      <td>1930.000000</td>\n",
       "    </tr>\n",
       "    <tr>\n",
       "      <th>mean</th>\n",
       "      <td>1.851117e+08</td>\n",
       "      <td>1.347637e+05</td>\n",
       "      <td>1.705666e+05</td>\n",
       "      <td>4.058150</td>\n",
       "      <td>136.752000</td>\n",
       "      <td>1401.301036</td>\n",
       "    </tr>\n",
       "    <tr>\n",
       "      <th>std</th>\n",
       "      <td>1.004913e+08</td>\n",
       "      <td>1.073256e+05</td>\n",
       "      <td>1.307940e+05</td>\n",
       "      <td>1.830191</td>\n",
       "      <td>429.835972</td>\n",
       "      <td>4256.562694</td>\n",
       "    </tr>\n",
       "    <tr>\n",
       "      <th>min</th>\n",
       "      <td>3.428510e+05</td>\n",
       "      <td>2.000000e+03</td>\n",
       "      <td>2.000000e+03</td>\n",
       "      <td>0.000000</td>\n",
       "      <td>0.000000</td>\n",
       "      <td>1.000000</td>\n",
       "    </tr>\n",
       "    <tr>\n",
       "      <th>25%</th>\n",
       "      <td>9.058706e+07</td>\n",
       "      <td>7.600000e+04</td>\n",
       "      <td>9.800000e+04</td>\n",
       "      <td>4.700000</td>\n",
       "      <td>2.000000</td>\n",
       "      <td>46.000000</td>\n",
       "    </tr>\n",
       "    <tr>\n",
       "      <th>50%</th>\n",
       "      <td>2.137166e+08</td>\n",
       "      <td>1.130000e+05</td>\n",
       "      <td>1.470000e+05</td>\n",
       "      <td>5.000000</td>\n",
       "      <td>14.000000</td>\n",
       "      <td>201.000000</td>\n",
       "    </tr>\n",
       "    <tr>\n",
       "      <th>75%</th>\n",
       "      <td>2.758556e+08</td>\n",
       "      <td>1.590000e+05</td>\n",
       "      <td>1.990000e+05</td>\n",
       "      <td>5.000000</td>\n",
       "      <td>75.250000</td>\n",
       "      <td>855.000000</td>\n",
       "    </tr>\n",
       "    <tr>\n",
       "      <th>max</th>\n",
       "      <td>2.777282e+08</td>\n",
       "      <td>1.497000e+06</td>\n",
       "      <td>1.750000e+06</td>\n",
       "      <td>5.000000</td>\n",
       "      <td>5476.000000</td>\n",
       "      <td>62004.000000</td>\n",
       "    </tr>\n",
       "  </tbody>\n",
       "</table>\n",
       "</div>"
      ],
      "text/plain": [
       "                 id         price  original_price  rating_average  \\\n",
       "count  2.000000e+03  2.000000e+03    2.000000e+03     2000.000000   \n",
       "mean   1.851117e+08  1.347637e+05    1.705666e+05        4.058150   \n",
       "std    1.004913e+08  1.073256e+05    1.307940e+05        1.830191   \n",
       "min    3.428510e+05  2.000000e+03    2.000000e+03        0.000000   \n",
       "25%    9.058706e+07  7.600000e+04    9.800000e+04        4.700000   \n",
       "50%    2.137166e+08  1.130000e+05    1.470000e+05        5.000000   \n",
       "75%    2.758556e+08  1.590000e+05    1.990000e+05        5.000000   \n",
       "max    2.777282e+08  1.497000e+06    1.750000e+06        5.000000   \n",
       "\n",
       "       review_count  quantity_sold  \n",
       "count   2000.000000    1930.000000  \n",
       "mean     136.752000    1401.301036  \n",
       "std      429.835972    4256.562694  \n",
       "min        0.000000       1.000000  \n",
       "25%        2.000000      46.000000  \n",
       "50%       14.000000     201.000000  \n",
       "75%       75.250000     855.000000  \n",
       "max     5476.000000   62004.000000  "
      ]
     },
     "execution_count": 159,
     "metadata": {},
     "output_type": "execute_result"
    }
   ],
   "source": [
    "df.describe()"
   ]
  },
  {
   "cell_type": "code",
   "execution_count": 160,
   "id": "a27e8e8e",
   "metadata": {},
   "outputs": [
    {
     "data": {
      "text/html": [
       "<div>\n",
       "<style scoped>\n",
       "    .dataframe tbody tr th:only-of-type {\n",
       "        vertical-align: middle;\n",
       "    }\n",
       "\n",
       "    .dataframe tbody tr th {\n",
       "        vertical-align: top;\n",
       "    }\n",
       "\n",
       "    .dataframe thead th {\n",
       "        text-align: right;\n",
       "    }\n",
       "</style>\n",
       "<table border=\"1\" class=\"dataframe\">\n",
       "  <thead>\n",
       "    <tr style=\"text-align: right;\">\n",
       "      <th></th>\n",
       "      <th>id</th>\n",
       "      <th>name</th>\n",
       "      <th>price</th>\n",
       "      <th>original_price</th>\n",
       "      <th>rating_average</th>\n",
       "      <th>review_count</th>\n",
       "      <th>author</th>\n",
       "      <th>categories</th>\n",
       "      <th>quantity_sold</th>\n",
       "      <th>inventory_status</th>\n",
       "      <th>specifications</th>\n",
       "    </tr>\n",
       "  </thead>\n",
       "  <tbody>\n",
       "    <tr>\n",
       "      <th>0</th>\n",
       "      <td>277728224</td>\n",
       "      <td>Nói Chuyện Là Bản Năng, Giữ Miệng Là Tu Dưỡng,...</td>\n",
       "      <td>117180</td>\n",
       "      <td>127000</td>\n",
       "      <td>4.8</td>\n",
       "      <td>419</td>\n",
       "      <td>Trương Tiếu Hằng</td>\n",
       "      <td>{'id': 316, 'name': 'Sách tiếng Việt', 'is_lea...</td>\n",
       "      <td>8646.0</td>\n",
       "      <td>available</td>\n",
       "      <td>Phiên bản sách: Phiên bản thường | Công ty phá...</td>\n",
       "    </tr>\n",
       "    <tr>\n",
       "      <th>1</th>\n",
       "      <td>277412034</td>\n",
       "      <td>Sách Song Ngữ Lời Thì Thầm Trong Tổ Ấm - Whisp...</td>\n",
       "      <td>158000</td>\n",
       "      <td>158000</td>\n",
       "      <td>5.0</td>\n",
       "      <td>21</td>\n",
       "      <td>NaN</td>\n",
       "      <td>{'id': 67857, 'name': 'Sách học tiếng anh - kh...</td>\n",
       "      <td>681.0</td>\n",
       "      <td>available</td>\n",
       "      <td>Công ty phát hành: NXB Lao Động | Ngày xuất bả...</td>\n",
       "    </tr>\n",
       "    <tr>\n",
       "      <th>2</th>\n",
       "      <td>277409853</td>\n",
       "      <td>Bí Ẩn Thảm Án Ở Styles (Agatha Christie) (NXB ...</td>\n",
       "      <td>106000</td>\n",
       "      <td>122000</td>\n",
       "      <td>5.0</td>\n",
       "      <td>2</td>\n",
       "      <td>Agatha Christie</td>\n",
       "      <td>{'id': 664, 'name': 'Truyện trinh thám', 'is_l...</td>\n",
       "      <td>75.0</td>\n",
       "      <td>available</td>\n",
       "      <td>Công ty phát hành: NXB Trẻ | Loại bìa: Bìa mềm...</td>\n",
       "    </tr>\n",
       "    <tr>\n",
       "      <th>3</th>\n",
       "      <td>277381902</td>\n",
       "      <td>Tiếng gọi chân trời - Nguyễn Ngọc Tư</td>\n",
       "      <td>68100</td>\n",
       "      <td>95000</td>\n",
       "      <td>5.0</td>\n",
       "      <td>8</td>\n",
       "      <td>Nguyễn Ngọc Tư</td>\n",
       "      <td>{'id': 68000, 'name': 'Truyện ngắn - Tản văn -...</td>\n",
       "      <td>336.0</td>\n",
       "      <td>available</td>\n",
       "      <td>Công ty phát hành: NXB Trẻ | Ngày xuất bản: 20...</td>\n",
       "    </tr>\n",
       "    <tr>\n",
       "      <th>4</th>\n",
       "      <td>276960030</td>\n",
       "      <td>Khi Mọi Điều Không Như Ý</td>\n",
       "      <td>68670</td>\n",
       "      <td>109000</td>\n",
       "      <td>5.0</td>\n",
       "      <td>25</td>\n",
       "      <td>Hae Min</td>\n",
       "      <td>{'id': 67946, 'name': 'Sách tâm lý học - khác'...</td>\n",
       "      <td>696.0</td>\n",
       "      <td>available</td>\n",
       "      <td>Công ty phát hành: Nhã Nam | Ngày xuất bản: 20...</td>\n",
       "    </tr>\n",
       "  </tbody>\n",
       "</table>\n",
       "</div>"
      ],
      "text/plain": [
       "          id                                               name   price  \\\n",
       "0  277728224  Nói Chuyện Là Bản Năng, Giữ Miệng Là Tu Dưỡng,...  117180   \n",
       "1  277412034  Sách Song Ngữ Lời Thì Thầm Trong Tổ Ấm - Whisp...  158000   \n",
       "2  277409853  Bí Ẩn Thảm Án Ở Styles (Agatha Christie) (NXB ...  106000   \n",
       "3  277381902               Tiếng gọi chân trời - Nguyễn Ngọc Tư   68100   \n",
       "4  276960030                           Khi Mọi Điều Không Như Ý   68670   \n",
       "\n",
       "   original_price  rating_average  review_count             author  \\\n",
       "0          127000             4.8           419   Trương Tiếu Hằng   \n",
       "1          158000             5.0            21                NaN   \n",
       "2          122000             5.0             2    Agatha Christie   \n",
       "3           95000             5.0             8     Nguyễn Ngọc Tư   \n",
       "4          109000             5.0            25            Hae Min   \n",
       "\n",
       "                                          categories  quantity_sold  \\\n",
       "0  {'id': 316, 'name': 'Sách tiếng Việt', 'is_lea...         8646.0   \n",
       "1  {'id': 67857, 'name': 'Sách học tiếng anh - kh...          681.0   \n",
       "2  {'id': 664, 'name': 'Truyện trinh thám', 'is_l...           75.0   \n",
       "3  {'id': 68000, 'name': 'Truyện ngắn - Tản văn -...          336.0   \n",
       "4  {'id': 67946, 'name': 'Sách tâm lý học - khác'...          696.0   \n",
       "\n",
       "  inventory_status                                     specifications  \n",
       "0        available  Phiên bản sách: Phiên bản thường | Công ty phá...  \n",
       "1        available  Công ty phát hành: NXB Lao Động | Ngày xuất bả...  \n",
       "2        available  Công ty phát hành: NXB Trẻ | Loại bìa: Bìa mềm...  \n",
       "3        available  Công ty phát hành: NXB Trẻ | Ngày xuất bản: 20...  \n",
       "4        available  Công ty phát hành: Nhã Nam | Ngày xuất bản: 20...  "
      ]
     },
     "execution_count": 160,
     "metadata": {},
     "output_type": "execute_result"
    }
   ],
   "source": [
    "df.head(5)"
   ]
  },
  {
   "cell_type": "code",
   "execution_count": 161,
   "id": "96aee9a9",
   "metadata": {},
   "outputs": [
    {
     "name": "stdout",
     "output_type": "stream",
     "text": [
      "Dòng author trống 290 giá trị\n",
      "Dòng quantity_sold trống 70 giá trị\n",
      "Dòng specifications trống 2 giá trị\n"
     ]
    }
   ],
   "source": [
    "for col in df.columns:\n",
    "    missing_data = df[col].isna().sum()\n",
    "    if missing_data < 2000 and missing_data > 0:\n",
    "        print(f'Dòng {col} trống {missing_data} giá trị')"
   ]
  },
  {
   "cell_type": "code",
   "execution_count": 162,
   "id": "dd0fc295",
   "metadata": {},
   "outputs": [
    {
     "data": {
      "text/plain": [
       "np.int64(0)"
      ]
     },
     "execution_count": 162,
     "metadata": {},
     "output_type": "execute_result"
    }
   ],
   "source": [
    "df.duplicated().sum()"
   ]
  },
  {
   "cell_type": "code",
   "execution_count": 163,
   "id": "65e77a85",
   "metadata": {},
   "outputs": [
    {
     "name": "stdout",
     "output_type": "stream",
     "text": [
      "             id                                               name   price  \\\n",
      "1     277412034  Sách Song Ngữ Lời Thì Thầm Trong Tổ Ấm - Whisp...  158000   \n",
      "8     276346703  Combo 4 cuốn: ChatGPT + ChatGPT thực chiến + A...  608000   \n",
      "22    212597849                        Bookmark kẹp sách giấy cứng    6480   \n",
      "23    209389165                        Bookmark kẹp sách giấy cứng    2000   \n",
      "26    199582064  Sổ tay ghi chép / sổ lò xo ghi chép A5 - B5 - ...   50000   \n",
      "...         ...                                                ...     ...   \n",
      "1980  194130726  [bìa cứng] [Sách lịch sử có tranh minh họa] TH...  450000   \n",
      "1981  186369313                    Hành Tinh Của Một Kẻ Nghĩ Nhiều   76000   \n",
      "1983  140045033  Tình Báo, Gián Điệp - Các Tổ Chức Tình Báo Hàn...   76500   \n",
      "1985  104558238                       Sách Thức Dậy, Anh Vẫn Là Mơ   71100   \n",
      "1989   67865487                                             Sụp Đổ  273000   \n",
      "\n",
      "      original_price  rating_average  review_count author  \\\n",
      "1             158000             5.0            21    NaN   \n",
      "8             716000             0.0             0    NaN   \n",
      "22              9000             3.0             2    NaN   \n",
      "23              2000             3.0             2    NaN   \n",
      "26             99000             5.0           156    NaN   \n",
      "...              ...             ...           ...    ...   \n",
      "1980          450000             5.0             3    NaN   \n",
      "1981           86000             5.0             1    NaN   \n",
      "1983          102000             5.0            30    NaN   \n",
      "1985           71100             5.0             6    NaN   \n",
      "1989          399000             5.0             5    NaN   \n",
      "\n",
      "                                             categories  quantity_sold  \\\n",
      "1     {'id': 67857, 'name': 'Sách học tiếng anh - kh...          681.0   \n",
      "8     {'id': 848, 'name': 'Sách Marketing - Bán hàng...            1.0   \n",
      "22    {'id': 67407, 'name': 'Bookmark giấy', 'is_lea...         3042.0   \n",
      "23    {'id': 54978, 'name': '1980Books', 'is_leaf': ...         9265.0   \n",
      "26    {'id': 1899, 'name': 'Sổ Tay Các Loại', 'is_le...         2297.0   \n",
      "...                                                 ...            ...   \n",
      "1980  {'id': 9724, 'name': 'Lịch Sử Việt Nam', 'is_l...           11.0   \n",
      "1981        {'id': 2, 'name': 'Root', 'is_leaf': False}           11.0   \n",
      "1983  {'id': 9724, 'name': 'Lịch Sử Việt Nam', 'is_l...          178.0   \n",
      "1985  {'id': 68000, 'name': 'Truyện ngắn - Tản văn -...           44.0   \n",
      "1989  {'id': 316, 'name': 'Sách tiếng Việt', 'is_lea...           44.0   \n",
      "\n",
      "     inventory_status                                     specifications  \n",
      "1           available  Công ty phát hành: NXB Lao Động | Ngày xuất bả...  \n",
      "8           available  Công ty phát hành: 1980 Books | Nhà xuất bản: ...  \n",
      "22          available  Xuất xứ (Made in): Việt Nam | Xuất xứ thương h...  \n",
      "23          available  Công ty phát hành: 1980 Books | Nhà xuất bản: ...  \n",
      "26          available  Thương hiệu: HARIN | Xuất xứ (Made in): Việt N...  \n",
      "...               ...                                                ...  \n",
      "1980        available  Công ty phát hành: Nhà Xuất Bản Đà Nẵng | Loại...  \n",
      "1981        available  Công ty phát hành: AZ Việt Nam | Phương thức g...  \n",
      "1983        available  Công ty phát hành: VIETNAMBOOK | Loại bìa: Bìa...  \n",
      "1985        available  Công ty phát hành: Phương Nam Book | Ngày xuất...  \n",
      "1989        available  Công ty phát hành: Alpha Books | Nhà xuất bản:...  \n",
      "\n",
      "[290 rows x 11 columns]\n"
     ]
    }
   ],
   "source": [
    "#Kiểm tra các giá trị trống trong cột author\n",
    "df_missing_author = df[\n",
    "    df['author'].isna() |\n",
    "    (df['author'] == \"\") |\n",
    "    (df['author'] == \"null\")\n",
    "]\n",
    "\n",
    "print(df_missing_author)"
   ]
  },
  {
   "cell_type": "code",
   "execution_count": 164,
   "id": "ba06bdbe",
   "metadata": {},
   "outputs": [],
   "source": [
    "#Xử lý các giá trị trống trong cột author\n",
    "df['author'] = df['author'].fillna('Không rõ')"
   ]
  },
  {
   "cell_type": "code",
   "execution_count": 165,
   "id": "e9c3e9cc",
   "metadata": {},
   "outputs": [
    {
     "name": "stdout",
     "output_type": "stream",
     "text": [
      "             id                                               name   price  \\\n",
      "70     49002009  DƯỠNG TÂM GIÀU CÓ DƯỠNG THÂN NGHÈO KHÓ - NGUYỄ...   88000   \n",
      "153     7718737              Nghệ Thuật Tư Duy Rành Mạch (Tái Bản)  106000   \n",
      "164   277314379                        31 Ngày Bán Hàng Thực Chiến  292000   \n",
      "169   276641008        Thao túng tâm lý khách hàng bằng tâm lý học  160000   \n",
      "254   274377039                   Chữa Lành Bằng Ánh Sáng Mặt Trời  116000   \n",
      "...         ...                                                ...     ...   \n",
      "1922  276944791                  Trần Bạch Đằng: Cuộc Đời Và Ký Ức  120000   \n",
      "1947  160488880  OKR - Từ Chiến Lược Mục Tiêu Đến Kết Quả Then ...  116000   \n",
      "1963  277488485                           Luật Đầu Tư (Hiện Hành)    45000   \n",
      "1987   90480504  Sách - Khổng Tử - Nguyễn Hiến Lê ( Tuyển Tập B...  127200   \n",
      "1999    1059888                           Đường Đến Nhà Trắng 2016  188000   \n",
      "\n",
      "      original_price  rating_average  review_count            author  \\\n",
      "70             98000             0.0             0   Nguyễn Anh Dũng   \n",
      "153           118000             0.0             0      Rolf Dobelli   \n",
      "164           365000             0.0             0  Hoàng Trung Dũng   \n",
      "169           160000             0.0             0          Không rõ   \n",
      "254           129000             0.0             0    Andreas Moritz   \n",
      "...              ...             ...           ...               ...   \n",
      "1922          150000             0.0             0    Trần Bạch Đằng   \n",
      "1947          129000             0.0             0      Masaru Amono   \n",
      "1963           43000             0.0             0          Quốc hội   \n",
      "1987          159000             0.0             0    Nguyễn Hiến Lê   \n",
      "1999          209000             0.0             0       Roger Stone   \n",
      "\n",
      "                                             categories  quantity_sold  \\\n",
      "70    {'id': 316, 'name': 'Sách tiếng Việt', 'is_lea...            NaN   \n",
      "153   {'id': 316, 'name': 'Sách tiếng Việt', 'is_lea...            NaN   \n",
      "164   {'id': 848, 'name': 'Sách Marketing - Bán hàng...            NaN   \n",
      "169   {'id': 871, 'name': 'Sách tư duy - Kỹ năng sốn...            NaN   \n",
      "254   {'id': 861, 'name': 'Sách Tôn Giáo - Tâm Linh'...            NaN   \n",
      "...                                                 ...            ...   \n",
      "1922  {'id': 839, 'name': 'Sách văn học', 'is_leaf':...            NaN   \n",
      "1947  {'id': 849, 'name': 'Sách quản trị, lãnh đạo',...            NaN   \n",
      "1963                                                 []            NaN   \n",
      "1987  {'id': 67981, 'name': 'Danh nhân Nước Ngoài', ...            NaN   \n",
      "1999  {'id': 67836, 'name': 'Kinh tế chính trị', 'is...            NaN   \n",
      "\n",
      "     inventory_status                                     specifications  \n",
      "70          available  Công ty phát hành: SBOOKS | Ngày xuất bản: 202...  \n",
      "153         available  Công ty phát hành: Nhã Nam | Ngày xuất bản: 20...  \n",
      "164         available  Bookcare: Có | Công ty phát hành: Alphabooks |...  \n",
      "169         available  Công ty phát hành: BIZBOOKS | Nhà xuất bản: Nh...  \n",
      "254         available  Bookcare: Có | Công ty phát hành: Thái Hà | Ng...  \n",
      "...               ...                                                ...  \n",
      "1922        available  Công ty phát hành: NXB Trẻ | Loại bìa: Bìa mềm...  \n",
      "1947        available  Công ty phát hành: 1980 Books | Ngày xuất bản:...  \n",
      "1963     out_of_stock                                                NaN  \n",
      "1987        available  Công ty phát hành: BIZBOOKS | Ngày xuất bản: 2...  \n",
      "1999        available  Công ty phát hành: Omega Plus | Ngày xuất bản:...  \n",
      "\n",
      "[70 rows x 11 columns]\n"
     ]
    }
   ],
   "source": [
    "#Kiểm tra các giá trị trống trong cột quantity_sold\n",
    "df_missing_quantity_sold = df[\n",
    "    df['quantity_sold'].isna() |\n",
    "    (df['quantity_sold'] == \"\") |\n",
    "    (df['quantity_sold'] == \"null\")\n",
    "]\n",
    "\n",
    "print(df_missing_quantity_sold)"
   ]
  },
  {
   "cell_type": "code",
   "execution_count": 166,
   "id": "0d99b30e",
   "metadata": {},
   "outputs": [],
   "source": [
    "#Trống là do chưa bán được hàng nên thay bằng 0\n",
    "df['quantity_sold'] = df['quantity_sold'].fillna(0)"
   ]
  },
  {
   "cell_type": "code",
   "execution_count": 167,
   "id": "d110c29d",
   "metadata": {},
   "outputs": [],
   "source": [
    "df['quantity_sold'] = df['quantity_sold'].astype('int')"
   ]
  },
  {
   "cell_type": "code",
   "execution_count": 168,
   "id": "cc1cbc23",
   "metadata": {},
   "outputs": [
    {
     "name": "stdout",
     "output_type": "stream",
     "text": [
      "             id                                               name  price  \\\n",
      "841   277520704  Sách - Hội Những Người Thích Ở Nhà - Tặng Kèm ...  80000   \n",
      "1963  277488485                           Luật Đầu Tư (Hiện Hành)   45000   \n",
      "\n",
      "      original_price  rating_average  review_count      author categories  \\\n",
      "841            80000             5.0             2  Chiaki Ida         []   \n",
      "1963           43000             0.0             0    Quốc hội         []   \n",
      "\n",
      "      quantity_sold inventory_status specifications  \n",
      "841               0     out_of_stock            NaN  \n",
      "1963              0     out_of_stock            NaN  \n"
     ]
    }
   ],
   "source": [
    "#Kiểm tra các giá trị trống trong cột specifications. Nhưng ở đây trống do sản phẩm hết hàng. Không cần xử lý\n",
    "df_missing_spec = df[\n",
    "    df[\"specifications\"].isna() | \n",
    "    (df[\"specifications\"] == \"\") | \n",
    "    (df[\"specifications\"] == \"null\")\n",
    "]\n",
    "print(df_missing_spec)"
   ]
  },
  {
   "cell_type": "markdown",
   "id": "6b2b3a68",
   "metadata": {},
   "source": [
    "XỬ LÝ TÁCH GIÁ TRỊ TRONG CỘT CATEGORIES\n",
    "- ID\n",
    "- Tên danh mục\n",
    "- Bỏ cột cuối\n"
   ]
  },
  {
   "cell_type": "code",
   "execution_count": 169,
   "id": "22a7b76b",
   "metadata": {},
   "outputs": [],
   "source": [
    "import ast"
   ]
  },
  {
   "cell_type": "code",
   "execution_count": 170,
   "id": "e2cc1a2b",
   "metadata": {},
   "outputs": [],
   "source": [
    "#Chuyển cột categories thành dang dictionary thật và lưu vào cột mới categories_dict\n",
    "df['categories_dict'] = df['categories'].apply(ast.literal_eval)"
   ]
  },
  {
   "cell_type": "code",
   "execution_count": 171,
   "id": "b4bec3ae",
   "metadata": {},
   "outputs": [
    {
     "data": {
      "text/plain": [
       "0    {'id': 316, 'name': 'Sách tiếng Việt', 'is_lea...\n",
       "1    {'id': 67857, 'name': 'Sách học tiếng anh - kh...\n",
       "2    {'id': 664, 'name': 'Truyện trinh thám', 'is_l...\n",
       "3    {'id': 68000, 'name': 'Truyện ngắn - Tản văn -...\n",
       "4    {'id': 67946, 'name': 'Sách tâm lý học - khác'...\n",
       "Name: categories_dict, dtype: object"
      ]
     },
     "execution_count": 171,
     "metadata": {},
     "output_type": "execute_result"
    }
   ],
   "source": [
    "df['categories_dict'].head(5)"
   ]
  },
  {
   "cell_type": "code",
   "execution_count": 172,
   "id": "4f9a6e68",
   "metadata": {},
   "outputs": [
    {
     "data": {
      "text/plain": [
       "categories_dict\n",
       "<class 'dict'>    1998\n",
       "<class 'list'>       2\n",
       "Name: count, dtype: int64"
      ]
     },
     "execution_count": 172,
     "metadata": {},
     "output_type": "execute_result"
    }
   ],
   "source": [
    "df['categories_dict'].apply(type).value_counts()"
   ]
  },
  {
   "cell_type": "code",
   "execution_count": 173,
   "id": "489f5f72",
   "metadata": {},
   "outputs": [],
   "source": [
    "#có 2 giá trị list rỗng. Nhưng sách này không coshangf, không có thông tin gì => Không có giá trị phân tích => Xóa\n",
    "df = df[df['categories_dict'].apply(type) != list]"
   ]
  },
  {
   "cell_type": "code",
   "execution_count": 174,
   "id": "4b092653",
   "metadata": {},
   "outputs": [],
   "source": [
    "df['category_id'] = df['categories_dict'].apply(lambda x: x.get('id'))\n",
    "df['category_name'] = df['categories_dict'].apply(lambda x: x.get('name'))\n",
    "df.drop(['categories_dict', 'categories'], axis=1, inplace=True)"
   ]
  },
  {
   "cell_type": "code",
   "execution_count": 175,
   "id": "7ab2918b",
   "metadata": {},
   "outputs": [
    {
     "name": "stdout",
     "output_type": "stream",
     "text": [
      "<class 'pandas.core.frame.DataFrame'>\n",
      "Index: 1998 entries, 0 to 1999\n",
      "Data columns (total 12 columns):\n",
      " #   Column            Non-Null Count  Dtype  \n",
      "---  ------            --------------  -----  \n",
      " 0   id                1998 non-null   int64  \n",
      " 1   name              1998 non-null   object \n",
      " 2   price             1998 non-null   int64  \n",
      " 3   original_price    1998 non-null   int64  \n",
      " 4   rating_average    1998 non-null   float64\n",
      " 5   review_count      1998 non-null   int64  \n",
      " 6   author            1998 non-null   object \n",
      " 7   quantity_sold     1998 non-null   int64  \n",
      " 8   inventory_status  1998 non-null   object \n",
      " 9   specifications    1998 non-null   object \n",
      " 10  category_id       1998 non-null   int64  \n",
      " 11  category_name     1998 non-null   object \n",
      "dtypes: float64(1), int64(6), object(5)\n",
      "memory usage: 202.9+ KB\n"
     ]
    }
   ],
   "source": [
    "df.info()"
   ]
  },
  {
   "cell_type": "code",
   "execution_count": 176,
   "id": "d6335102",
   "metadata": {},
   "outputs": [
    {
     "data": {
      "text/html": [
       "<div>\n",
       "<style scoped>\n",
       "    .dataframe tbody tr th:only-of-type {\n",
       "        vertical-align: middle;\n",
       "    }\n",
       "\n",
       "    .dataframe tbody tr th {\n",
       "        vertical-align: top;\n",
       "    }\n",
       "\n",
       "    .dataframe thead th {\n",
       "        text-align: right;\n",
       "    }\n",
       "</style>\n",
       "<table border=\"1\" class=\"dataframe\">\n",
       "  <thead>\n",
       "    <tr style=\"text-align: right;\">\n",
       "      <th></th>\n",
       "      <th>id</th>\n",
       "      <th>name</th>\n",
       "      <th>price</th>\n",
       "      <th>original_price</th>\n",
       "      <th>rating_average</th>\n",
       "      <th>review_count</th>\n",
       "      <th>author</th>\n",
       "      <th>quantity_sold</th>\n",
       "      <th>inventory_status</th>\n",
       "      <th>specifications</th>\n",
       "      <th>category_id</th>\n",
       "      <th>category_name</th>\n",
       "    </tr>\n",
       "  </thead>\n",
       "  <tbody>\n",
       "    <tr>\n",
       "      <th>0</th>\n",
       "      <td>277728224</td>\n",
       "      <td>Nói Chuyện Là Bản Năng, Giữ Miệng Là Tu Dưỡng,...</td>\n",
       "      <td>117180</td>\n",
       "      <td>127000</td>\n",
       "      <td>4.8</td>\n",
       "      <td>419</td>\n",
       "      <td>Trương Tiếu Hằng</td>\n",
       "      <td>8646</td>\n",
       "      <td>available</td>\n",
       "      <td>Phiên bản sách: Phiên bản thường | Công ty phá...</td>\n",
       "      <td>316</td>\n",
       "      <td>Sách tiếng Việt</td>\n",
       "    </tr>\n",
       "    <tr>\n",
       "      <th>1</th>\n",
       "      <td>277412034</td>\n",
       "      <td>Sách Song Ngữ Lời Thì Thầm Trong Tổ Ấm - Whisp...</td>\n",
       "      <td>158000</td>\n",
       "      <td>158000</td>\n",
       "      <td>5.0</td>\n",
       "      <td>21</td>\n",
       "      <td>Không rõ</td>\n",
       "      <td>681</td>\n",
       "      <td>available</td>\n",
       "      <td>Công ty phát hành: NXB Lao Động | Ngày xuất bả...</td>\n",
       "      <td>67857</td>\n",
       "      <td>Sách học tiếng anh - khác</td>\n",
       "    </tr>\n",
       "    <tr>\n",
       "      <th>2</th>\n",
       "      <td>277409853</td>\n",
       "      <td>Bí Ẩn Thảm Án Ở Styles (Agatha Christie) (NXB ...</td>\n",
       "      <td>106000</td>\n",
       "      <td>122000</td>\n",
       "      <td>5.0</td>\n",
       "      <td>2</td>\n",
       "      <td>Agatha Christie</td>\n",
       "      <td>75</td>\n",
       "      <td>available</td>\n",
       "      <td>Công ty phát hành: NXB Trẻ | Loại bìa: Bìa mềm...</td>\n",
       "      <td>664</td>\n",
       "      <td>Truyện trinh thám</td>\n",
       "    </tr>\n",
       "    <tr>\n",
       "      <th>3</th>\n",
       "      <td>277381902</td>\n",
       "      <td>Tiếng gọi chân trời - Nguyễn Ngọc Tư</td>\n",
       "      <td>68100</td>\n",
       "      <td>95000</td>\n",
       "      <td>5.0</td>\n",
       "      <td>8</td>\n",
       "      <td>Nguyễn Ngọc Tư</td>\n",
       "      <td>336</td>\n",
       "      <td>available</td>\n",
       "      <td>Công ty phát hành: NXB Trẻ | Ngày xuất bản: 20...</td>\n",
       "      <td>68000</td>\n",
       "      <td>Truyện ngắn - Tản văn - Tạp Văn Việt Nam</td>\n",
       "    </tr>\n",
       "    <tr>\n",
       "      <th>4</th>\n",
       "      <td>276960030</td>\n",
       "      <td>Khi Mọi Điều Không Như Ý</td>\n",
       "      <td>68670</td>\n",
       "      <td>109000</td>\n",
       "      <td>5.0</td>\n",
       "      <td>25</td>\n",
       "      <td>Hae Min</td>\n",
       "      <td>696</td>\n",
       "      <td>available</td>\n",
       "      <td>Công ty phát hành: Nhã Nam | Ngày xuất bản: 20...</td>\n",
       "      <td>67946</td>\n",
       "      <td>Sách tâm lý học - khác</td>\n",
       "    </tr>\n",
       "  </tbody>\n",
       "</table>\n",
       "</div>"
      ],
      "text/plain": [
       "          id                                               name   price  \\\n",
       "0  277728224  Nói Chuyện Là Bản Năng, Giữ Miệng Là Tu Dưỡng,...  117180   \n",
       "1  277412034  Sách Song Ngữ Lời Thì Thầm Trong Tổ Ấm - Whisp...  158000   \n",
       "2  277409853  Bí Ẩn Thảm Án Ở Styles (Agatha Christie) (NXB ...  106000   \n",
       "3  277381902               Tiếng gọi chân trời - Nguyễn Ngọc Tư   68100   \n",
       "4  276960030                           Khi Mọi Điều Không Như Ý   68670   \n",
       "\n",
       "   original_price  rating_average  review_count             author  \\\n",
       "0          127000             4.8           419   Trương Tiếu Hằng   \n",
       "1          158000             5.0            21           Không rõ   \n",
       "2          122000             5.0             2    Agatha Christie   \n",
       "3           95000             5.0             8     Nguyễn Ngọc Tư   \n",
       "4          109000             5.0            25            Hae Min   \n",
       "\n",
       "   quantity_sold inventory_status  \\\n",
       "0           8646        available   \n",
       "1            681        available   \n",
       "2             75        available   \n",
       "3            336        available   \n",
       "4            696        available   \n",
       "\n",
       "                                      specifications  category_id  \\\n",
       "0  Phiên bản sách: Phiên bản thường | Công ty phá...          316   \n",
       "1  Công ty phát hành: NXB Lao Động | Ngày xuất bả...        67857   \n",
       "2  Công ty phát hành: NXB Trẻ | Loại bìa: Bìa mềm...          664   \n",
       "3  Công ty phát hành: NXB Trẻ | Ngày xuất bản: 20...        68000   \n",
       "4  Công ty phát hành: Nhã Nam | Ngày xuất bản: 20...        67946   \n",
       "\n",
       "                              category_name  \n",
       "0                           Sách tiếng Việt  \n",
       "1                 Sách học tiếng anh - khác  \n",
       "2                         Truyện trinh thám  \n",
       "3  Truyện ngắn - Tản văn - Tạp Văn Việt Nam  \n",
       "4                    Sách tâm lý học - khác  "
      ]
     },
     "execution_count": 176,
     "metadata": {},
     "output_type": "execute_result"
    }
   ],
   "source": [
    "df.head(5)"
   ]
  },
  {
   "cell_type": "markdown",
   "id": "4f1325fd",
   "metadata": {},
   "source": [
    "XỬ LÝ CỘT SPECIFICATIONS. TÁCH CỘT VỚI CÁC GIÁ TRỊ:\n",
    "- Công ty phát hành\n",
    "- Ngày xuất bản\n",
    "- Kích thước\n",
    "- Loại bìa\n",
    "- Dịch giả\n",
    "- Số trang\n",
    "- Nhà xuất bản\n",
    "- Bookcare"
   ]
  },
  {
   "cell_type": "code",
   "execution_count": 177,
   "id": "17b7da19",
   "metadata": {},
   "outputs": [],
   "source": [
    "def tach_spec(s):\n",
    "    dict = {}\n",
    "    if pd.isna(s):\n",
    "        return dict\n",
    "    items = s.split('|')\n",
    "    for item in items:\n",
    "        if ':' in item:\n",
    "            key, value = item.split(': ', 1)\n",
    "            dict[key.strip()] = value.strip()\n",
    "    return dict\n"
   ]
  },
  {
   "cell_type": "code",
   "execution_count": 178,
   "id": "f65422a2",
   "metadata": {},
   "outputs": [],
   "source": [
    "# Tách specifications thành dict, rồi thành dataframe\n",
    "df_spec = df['specifications'].apply(tach_spec).apply(pd.Series)\n",
    "\n",
    "# Chỉ lấy 4 cột cần thiết (nếu có tồn tại)\n",
    "columns_needed = ['Công ty phát hành', 'Loại bìa', 'Số trang', 'Ngày xuất bản']\n",
    "df_spec = df_spec[columns_needed]  # chỉ giữ lại các cột này\n",
    "\n",
    "# Gộp vào dataframe chính\n",
    "df = pd.concat([df, df_spec], axis=1)\n",
    "\n",
    "# Xoá cột gốc\n",
    "df.drop(columns='specifications', inplace=True)\n"
   ]
  },
  {
   "cell_type": "code",
   "execution_count": 179,
   "id": "5ffb1190",
   "metadata": {},
   "outputs": [
    {
     "name": "stdout",
     "output_type": "stream",
     "text": [
      "<class 'pandas.core.frame.DataFrame'>\n",
      "Index: 1998 entries, 0 to 1999\n",
      "Data columns (total 15 columns):\n",
      " #   Column             Non-Null Count  Dtype  \n",
      "---  ------             --------------  -----  \n",
      " 0   id                 1998 non-null   int64  \n",
      " 1   name               1998 non-null   object \n",
      " 2   price              1998 non-null   int64  \n",
      " 3   original_price     1998 non-null   int64  \n",
      " 4   rating_average     1998 non-null   float64\n",
      " 5   review_count       1998 non-null   int64  \n",
      " 6   author             1998 non-null   object \n",
      " 7   quantity_sold      1998 non-null   int64  \n",
      " 8   inventory_status   1998 non-null   object \n",
      " 9   category_id        1998 non-null   int64  \n",
      " 10  category_name      1998 non-null   object \n",
      " 11  Công ty phát hành  1922 non-null   object \n",
      " 12  Loại bìa           1706 non-null   object \n",
      " 13  Số trang           1629 non-null   object \n",
      " 14  Ngày xuất bản      1448 non-null   object \n",
      "dtypes: float64(1), int64(6), object(8)\n",
      "memory usage: 249.8+ KB\n"
     ]
    }
   ],
   "source": [
    "df.info()"
   ]
  },
  {
   "cell_type": "code",
   "execution_count": 181,
   "id": "9d881fe0",
   "metadata": {},
   "outputs": [],
   "source": [
    "df.to_csv('../data_export/books_cleaned.csv', index=False, encoding='utf-8-sig')"
   ]
  }
 ],
 "metadata": {
  "kernelspec": {
   "display_name": "Python 3",
   "language": "python",
   "name": "python3"
  },
  "language_info": {
   "codemirror_mode": {
    "name": "ipython",
    "version": 3
   },
   "file_extension": ".py",
   "mimetype": "text/x-python",
   "name": "python",
   "nbconvert_exporter": "python",
   "pygments_lexer": "ipython3",
   "version": "3.13.1"
  }
 },
 "nbformat": 4,
 "nbformat_minor": 5
}
