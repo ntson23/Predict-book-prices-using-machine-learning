{
 "cells": [
  {
   "cell_type": "code",
   "execution_count": 42,
   "id": "8e3cd85b",
   "metadata": {},
   "outputs": [],
   "source": [
    "import pandas as pd\n",
    "import numpy as np\n",
    "import matplotlib.pyplot as plt\n",
    "import seaborn as sns"
   ]
  },
  {
   "cell_type": "code",
   "execution_count": 43,
   "id": "826e2ce7",
   "metadata": {},
   "outputs": [],
   "source": [
    "df = pd.read_csv('../data_export/books_cleaned.csv')"
   ]
  },
  {
   "cell_type": "code",
   "execution_count": 44,
   "id": "345b1c62",
   "metadata": {},
   "outputs": [
    {
     "name": "stdout",
     "output_type": "stream",
     "text": [
      "<class 'pandas.core.frame.DataFrame'>\n",
      "RangeIndex: 1998 entries, 0 to 1997\n",
      "Data columns (total 15 columns):\n",
      " #   Column             Non-Null Count  Dtype  \n",
      "---  ------             --------------  -----  \n",
      " 0   id                 1998 non-null   int64  \n",
      " 1   name               1998 non-null   object \n",
      " 2   price              1998 non-null   int64  \n",
      " 3   original_price     1998 non-null   int64  \n",
      " 4   rating_average     1998 non-null   float64\n",
      " 5   review_count       1998 non-null   int64  \n",
      " 6   author             1998 non-null   object \n",
      " 7   quantity_sold      1998 non-null   int64  \n",
      " 8   inventory_status   1998 non-null   object \n",
      " 9   category_id        1998 non-null   int64  \n",
      " 10  category_name      1998 non-null   object \n",
      " 11  Công ty phát hành  1922 non-null   object \n",
      " 12  Loại bìa           1706 non-null   object \n",
      " 13  Số trang           1629 non-null   object \n",
      " 14  Ngày xuất bản      1448 non-null   object \n",
      "dtypes: float64(1), int64(6), object(8)\n",
      "memory usage: 234.3+ KB\n"
     ]
    }
   ],
   "source": [
    "df.info()"
   ]
  },
  {
   "cell_type": "code",
   "execution_count": 45,
   "id": "845bea79",
   "metadata": {},
   "outputs": [
    {
     "name": "stdout",
     "output_type": "stream",
     "text": [
      "Cột Công ty phát hành thiếu 76 giá trị\n",
      "Cột Loại bìa thiếu 292 giá trị\n",
      "Cột Số trang thiếu 369 giá trị\n",
      "Cột Ngày xuất bản thiếu 550 giá trị\n"
     ]
    }
   ],
   "source": [
    "for col in df.columns:\n",
    "  missing_data = df[col].isna().sum()\n",
    "  if missing_data < 10000 and missing_data > 0:\n",
    "   print(f'Cột {col} thiếu {missing_data} giá trị')"
   ]
  },
  {
   "cell_type": "code",
   "execution_count": 46,
   "id": "5d04981f",
   "metadata": {},
   "outputs": [
    {
     "name": "stderr",
     "output_type": "stream",
     "text": [
      "C:\\Users\\CEO\\AppData\\Local\\Temp\\ipykernel_3252\\2850199255.py:1: FutureWarning: A value is trying to be set on a copy of a DataFrame or Series through chained assignment using an inplace method.\n",
      "The behavior will change in pandas 3.0. This inplace method will never work because the intermediate object on which we are setting values always behaves as a copy.\n",
      "\n",
      "For example, when doing 'df[col].method(value, inplace=True)', try using 'df.method({col: value}, inplace=True)' or df[col] = df[col].method(value) instead, to perform the operation inplace on the original object.\n",
      "\n",
      "\n",
      "  df['Công ty phát hành'].fillna('Không rõ', inplace=True)\n"
     ]
    }
   ],
   "source": [
    "df['Công ty phát hành'].fillna('Không rõ', inplace=True)"
   ]
  },
  {
   "cell_type": "code",
   "execution_count": 47,
   "id": "c9dbbbb3",
   "metadata": {},
   "outputs": [],
   "source": [
    "#df['Ngày xuất bản'] = pd.to_datetime(df['Ngày xuất bản'], format='%d/%m/%Y', errors='coerce')"
   ]
  },
  {
   "cell_type": "code",
   "execution_count": 48,
   "id": "3e03ffb8",
   "metadata": {},
   "outputs": [
    {
     "data": {
      "text/html": [
       "<div>\n",
       "<style scoped>\n",
       "    .dataframe tbody tr th:only-of-type {\n",
       "        vertical-align: middle;\n",
       "    }\n",
       "\n",
       "    .dataframe tbody tr th {\n",
       "        vertical-align: top;\n",
       "    }\n",
       "\n",
       "    .dataframe thead th {\n",
       "        text-align: right;\n",
       "    }\n",
       "</style>\n",
       "<table border=\"1\" class=\"dataframe\">\n",
       "  <thead>\n",
       "    <tr style=\"text-align: right;\">\n",
       "      <th></th>\n",
       "      <th>id</th>\n",
       "      <th>price</th>\n",
       "      <th>original_price</th>\n",
       "      <th>rating_average</th>\n",
       "      <th>review_count</th>\n",
       "      <th>quantity_sold</th>\n",
       "      <th>category_id</th>\n",
       "    </tr>\n",
       "  </thead>\n",
       "  <tbody>\n",
       "    <tr>\n",
       "      <th>count</th>\n",
       "      <td>1998.0000</td>\n",
       "      <td>1998.0000</td>\n",
       "      <td>1998.0000</td>\n",
       "      <td>1998.0000</td>\n",
       "      <td>1998.0000</td>\n",
       "      <td>1998.0000</td>\n",
       "      <td>1998.0000</td>\n",
       "    </tr>\n",
       "    <tr>\n",
       "      <th>mean</th>\n",
       "      <td>185019243.0390</td>\n",
       "      <td>134836.0506</td>\n",
       "      <td>170675.7357</td>\n",
       "      <td>4.0597</td>\n",
       "      <td>136.8879</td>\n",
       "      <td>1353.6091</td>\n",
       "      <td>18520.4444</td>\n",
       "    </tr>\n",
       "    <tr>\n",
       "      <th>std</th>\n",
       "      <td>100499064.6064</td>\n",
       "      <td>107353.5417</td>\n",
       "      <td>130812.6188</td>\n",
       "      <td>1.8287</td>\n",
       "      <td>430.0297</td>\n",
       "      <td>4191.1772</td>\n",
       "      <td>28797.3781</td>\n",
       "    </tr>\n",
       "    <tr>\n",
       "      <th>min</th>\n",
       "      <td>342851.0000</td>\n",
       "      <td>2000.0000</td>\n",
       "      <td>2000.0000</td>\n",
       "      <td>0.0000</td>\n",
       "      <td>0.0000</td>\n",
       "      <td>0.0000</td>\n",
       "      <td>2.0000</td>\n",
       "    </tr>\n",
       "    <tr>\n",
       "      <th>25%</th>\n",
       "      <td>90516022.7500</td>\n",
       "      <td>76000.0000</td>\n",
       "      <td>98000.0000</td>\n",
       "      <td>4.7000</td>\n",
       "      <td>2.0000</td>\n",
       "      <td>40.2500</td>\n",
       "      <td>316.0000</td>\n",
       "    </tr>\n",
       "    <tr>\n",
       "      <th>50%</th>\n",
       "      <td>213703172.0000</td>\n",
       "      <td>113000.0000</td>\n",
       "      <td>148000.0000</td>\n",
       "      <td>5.0000</td>\n",
       "      <td>14.0000</td>\n",
       "      <td>182.0000</td>\n",
       "      <td>871.0000</td>\n",
       "    </tr>\n",
       "    <tr>\n",
       "      <th>75%</th>\n",
       "      <td>275853509.5000</td>\n",
       "      <td>159000.0000</td>\n",
       "      <td>199000.0000</td>\n",
       "      <td>5.0000</td>\n",
       "      <td>75.7500</td>\n",
       "      <td>803.7500</td>\n",
       "      <td>67335.0000</td>\n",
       "    </tr>\n",
       "    <tr>\n",
       "      <th>max</th>\n",
       "      <td>277728224.0000</td>\n",
       "      <td>1497000.0000</td>\n",
       "      <td>1750000.0000</td>\n",
       "      <td>5.0000</td>\n",
       "      <td>5476.0000</td>\n",
       "      <td>62004.0000</td>\n",
       "      <td>68257.0000</td>\n",
       "    </tr>\n",
       "  </tbody>\n",
       "</table>\n",
       "</div>"
      ],
      "text/plain": [
       "                  id        price  original_price  rating_average  \\\n",
       "count      1998.0000    1998.0000       1998.0000       1998.0000   \n",
       "mean  185019243.0390  134836.0506     170675.7357          4.0597   \n",
       "std   100499064.6064  107353.5417     130812.6188          1.8287   \n",
       "min      342851.0000    2000.0000       2000.0000          0.0000   \n",
       "25%    90516022.7500   76000.0000      98000.0000          4.7000   \n",
       "50%   213703172.0000  113000.0000     148000.0000          5.0000   \n",
       "75%   275853509.5000  159000.0000     199000.0000          5.0000   \n",
       "max   277728224.0000 1497000.0000    1750000.0000          5.0000   \n",
       "\n",
       "       review_count  quantity_sold  category_id  \n",
       "count     1998.0000      1998.0000    1998.0000  \n",
       "mean       136.8879      1353.6091   18520.4444  \n",
       "std        430.0297      4191.1772   28797.3781  \n",
       "min          0.0000         0.0000       2.0000  \n",
       "25%          2.0000        40.2500     316.0000  \n",
       "50%         14.0000       182.0000     871.0000  \n",
       "75%         75.7500       803.7500   67335.0000  \n",
       "max       5476.0000     62004.0000   68257.0000  "
      ]
     },
     "execution_count": 48,
     "metadata": {},
     "output_type": "execute_result"
    }
   ],
   "source": [
    "pd.set_option('display.float_format', '{:.4f}'.format)\n",
    "df.describe()"
   ]
  },
  {
   "cell_type": "code",
   "execution_count": 49,
   "id": "18ff3dd2",
   "metadata": {},
   "outputs": [
    {
     "data": {
      "image/png": "[encoded data removed]",
      "text/plain": [
       "<Figure size 640x480 with 1 Axes>"
      ]
     },
     "metadata": {},
     "output_type": "display_data"
    }
   ],
   "source": [
    "columns = ['price', 'original_price']\n",
    "sns.boxplot(data=df[columns])\n",
    "\n",
    "plt.title('Boxplot cho các cột giá, giá gốc')\n",
    "plt.ylabel('Giá trị')\n",
    "plt.grid(True)\n",
    "plt.show()"
   ]
  },
  {
   "cell_type": "code",
   "execution_count": 50,
   "id": "e34a12ef",
   "metadata": {},
   "outputs": [],
   "source": [
    "#Tìm các giá trị outliers\n",
    "#Tính IQR\n",
    "Q1 = df['original_price'].quantile(0.25)\n",
    "Q3 = df['original_price'].quantile(0.75)\n",
    "IQR = Q3 - Q1\n",
    "upper_bound = Q3 + 1.5 * IQR\n",
    "\n",
    "outliers = df[df['original_price'] > upper_bound]"
   ]
  },
  {
   "cell_type": "code",
   "execution_count": 51,
   "id": "bab0910c",
   "metadata": {},
   "outputs": [
    {
     "name": "stdout",
     "output_type": "stream",
     "text": [
      "                                                   name   price  \\\n",
      "8     Combo 4 cuốn: ChatGPT + ChatGPT thực chiến + A...  608000   \n",
      "42    Hành Lang Hẹp - Nhà Nước, Xã Hội Và Vận Mệnh C...  340000   \n",
      "75                                 Suối Nguồn (Tái Bản)  289000   \n",
      "80    (Tập Thơ) NGƯỜI LÀ MỘT BÓNG CHIM KHUÊ TÚ - Ngu...  385000   \n",
      "95    COMBO 4 - (TRÍ TUỆ CỦA NGƯỜI XƯA - ĐẠO LÝ NGƯỜ...  495000   \n",
      "...                                                 ...     ...   \n",
      "1963               Combo 2 Tập The Stand - Stephen King  574560   \n",
      "1978  [bìa cứng] [Sách lịch sử có tranh minh họa] TH...  450000   \n",
      "1984  Tư Vấn Bảo Hiểm - Những Kỹ Năng Không Ai Nói V...  880000   \n",
      "1987                                             Sụp Đổ  273000   \n",
      "1991  Harry Potter Và Chiếc Cốc Lửa - Tập 4 (Bản Đặc...  882000   \n",
      "\n",
      "      original_price  quantity_sold  \n",
      "8             716000              1  \n",
      "42            397000            298  \n",
      "75            380000          13171  \n",
      "80            385000            264  \n",
      "95            582000              9  \n",
      "...              ...            ...  \n",
      "1963          798000             24  \n",
      "1978          450000             11  \n",
      "1984         1230000            140  \n",
      "1987          399000             44  \n",
      "1991          980000             50  \n",
      "\n",
      "[115 rows x 4 columns]\n"
     ]
    }
   ],
   "source": [
    "outliers = df[df['original_price'] > upper_bound]\n",
    "print(outliers[['name', 'price', 'original_price', 'quantity_sold']])"
   ]
  },
  {
   "cell_type": "markdown",
   "id": "c5767bea",
   "metadata": {},
   "source": [
    "=> Đây là những combo sách hoặc sách bản đặc biệt nên giá cao hơn là hoàn toàn hợp lý."
   ]
  },
  {
   "cell_type": "code",
   "execution_count": 70,
   "id": "4329f30b",
   "metadata": {},
   "outputs": [
    {
     "name": "stdout",
     "output_type": "stream",
     "text": [
      "<class 'pandas.core.frame.DataFrame'>\n",
      "RangeIndex: 1998 entries, 0 to 1997\n",
      "Data columns (total 15 columns):\n",
      " #   Column             Non-Null Count  Dtype  \n",
      "---  ------             --------------  -----  \n",
      " 0   id                 1998 non-null   int64  \n",
      " 1   name               1998 non-null   object \n",
      " 2   price              1998 non-null   int64  \n",
      " 3   original_price     1998 non-null   int64  \n",
      " 4   rating_average     1998 non-null   float64\n",
      " 5   review_count       1998 non-null   int64  \n",
      " 6   author             1998 non-null   object \n",
      " 7   quantity_sold      1998 non-null   int64  \n",
      " 8   inventory_status   1998 non-null   object \n",
      " 9   category_id        1998 non-null   int64  \n",
      " 10  category_name      1998 non-null   object \n",
      " 11  Công ty phát hành  1998 non-null   object \n",
      " 12  Loại bìa           1706 non-null   object \n",
      " 13  Số trang           1998 non-null   int64  \n",
      " 14  Ngày xuất bản      1448 non-null   object \n",
      "dtypes: float64(1), int64(7), object(7)\n",
      "memory usage: 234.3+ KB\n"
     ]
    }
   ],
   "source": [
    "df.info()"
   ]
  },
  {
   "cell_type": "code",
   "execution_count": 54,
   "id": "4da0d6a7",
   "metadata": {},
   "outputs": [],
   "source": [
    "#Do có 1 vài cột bị xuống dòng hoặc dính khoảng trắng nên khi transform trong PBI nó sẽ bị lỗi => phải xóa \n",
    "df = df.replace({r'\\n': ' ', r'\\r': ' '}, regex=True)"
   ]
  },
  {
   "cell_type": "code",
   "execution_count": 67,
   "id": "50a98ba3",
   "metadata": {},
   "outputs": [],
   "source": [
    "df['Số trang'] = df['Số trang'].fillna(0)"
   ]
  },
  {
   "cell_type": "code",
   "execution_count": 63,
   "id": "5dc39c91",
   "metadata": {},
   "outputs": [
    {
     "name": "stdout",
     "output_type": "stream",
     "text": [
      "         id                                  name  price  original_price  \\\n",
      "679  473823  Sổ Lò Xo Grand B5 240 Trang Bìa Nhựa  42500           42500   \n",
      "\n",
      "     rating_average  review_count    author  quantity_sold inventory_status  \\\n",
      "679          5.0000             6  Không rõ             82        available   \n",
      "\n",
      "     category_id    category_name Công ty phát hành Loại bìa Số trang  \\\n",
      "679         1899  Sổ Tay Các Loại          Không rõ      NaN    240tr   \n",
      "\n",
      "    Ngày xuất bản  \n",
      "679           NaN  \n"
     ]
    }
   ],
   "source": [
    "#Chuyển số trang về int. Và thấy có 1 giá trị là string. Tiến hành sửa nó\n",
    "#Tìm thằng không phải số\n",
    "check = pd.to_numeric(df['Số trang'], errors='coerce')\n",
    "df_invalid = df[check.isna()]\n",
    "print(df_invalid)"
   ]
  },
  {
   "cell_type": "code",
   "execution_count": 64,
   "id": "743e1e0d",
   "metadata": {},
   "outputs": [],
   "source": [
    "df['Số trang'] = df['Số trang'].str.replace('240tr', '240', regex=True)"
   ]
  },
  {
   "cell_type": "code",
   "execution_count": 68,
   "id": "15b81c07",
   "metadata": {},
   "outputs": [],
   "source": [
    "df['Số trang'] = df['Số trang'].astype(int) "
   ]
  },
  {
   "cell_type": "code",
   "execution_count": 71,
   "id": "4ad946dd",
   "metadata": {},
   "outputs": [],
   "source": [
    "df.to_csv('../data_export/eda_books.csv', index=False, encoding='utf-8-sig')"
   ]
  }
 ],
 "metadata": {
  "kernelspec": {
   "display_name": "Python 3",
   "language": "python",
   "name": "python3"
  },
  "language_info": {
   "codemirror_mode": {
    "name": "ipython",
    "version": 3
   },
   "file_extension": ".py",
   "mimetype": "text/x-python",
   "name": "python",
   "nbconvert_exporter": "python",
   "pygments_lexer": "ipython3",
   "version": "3.13.1"
  }
 },
 "nbformat": 4,
 "nbformat_minor": 5
}
